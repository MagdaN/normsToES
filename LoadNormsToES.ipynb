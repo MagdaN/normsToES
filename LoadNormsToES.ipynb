{
 "cells": [
  {
   "cell_type": "code",
   "execution_count": null,
   "id": "0ab677c5-1bda-4c49-bec1-b8ae8b6aaba4",
   "metadata": {},
   "outputs": [],
   "source": []
  },
  {
   "cell_type": "code",
   "execution_count": 5,
   "id": "12f40138-72dd-48b2-9e52-a4753bec4db2",
   "metadata": {},
   "outputs": [],
   "source": [
    "mappings = {\"mappings\": {\n",
    "        \"legaldocuments\": {\n",
    "            \"_source\": {\n",
    "                \"enabled\": True\n",
    "            },\n",
    "            \"_all\": {\n",
    "                \"enabled\": False\n",
    "            },\n",
    "            \"properties\": {\n",
    "                \"title\": {\n",
    "                    \"type\": \"text\"\n",
    "                },\n",
    "                \"content\": {\n",
    "                    \"type\": \"text\"\n",
    "                },\n",
    "            }\n",
    "        }\n",
    "    }}"
   ]
  },
  {
   "cell_type": "code",
   "execution_count": 10,
   "id": "f212eb09-0668-4d41-8036-4962864f2d32",
   "metadata": {},
   "outputs": [
    {
     "name": "stderr",
     "output_type": "stream",
     "text": [
      "[WARNING] Note with key 'F1_818755_BJNR467400021' defined at line 9 column 1 but not used.\n",
      "\n"
     ]
    },
    {
     "data": {
      "text/plain": [
       "(100, [])"
      ]
     },
     "execution_count": 10,
     "metadata": {},
     "output_type": "execute_result"
    }
   ],
   "source": [
    "import os\n",
    "from glob import glob\n",
    "import frontmatter\n",
    "import pypandoc\n",
    "from elasticsearch import Elasticsearch\n",
    "from elasticsearch import helpers\n",
    "\n",
    "\n",
    "os.chdir(\"../gesetze\")\n",
    "es_client = Elasticsearch(\"http://localhost:9200\", mappings=mappings)\n",
    "\n",
    "files = []\n",
    "start_dir = os.getcwd()\n",
    "pattern   = \"[!README]*.md\"\n",
    "\n",
    "for dir,_,_ in os.walk(start_dir):\n",
    "    files.extend(glob(os.path.join(dir,pattern)))\n",
    "\n",
    "data = []\n",
    "\n",
    "\n",
    "for file in files[:100]:\n",
    "    with open(file) as fn:\n",
    "        post = frontmatter.load(fn)\n",
    "        metadata = post.metadata\n",
    "        content = pypandoc.convert_text(post.content, 'plain', format='md')\n",
    "        data.append(\n",
    "            {\n",
    "                \"title\": metadata.get(\"Title\"),\n",
    "                \"content\": content.replace('\\n', ' ').replace('\\r', ''),\n",
    "                \"documenttype\": \"NORM\"\n",
    "            }\n",
    "        )        \n",
    "        fn.close()\n",
    "\n",
    "def doc_generator(data):\n",
    "    for entry in data:\n",
    "        yield {\n",
    "                \"_index\": 'legaldocuments',\n",
    "                \"_type\": \"_doc\",\n",
    "                \"_source\": entry,\n",
    "            }\n",
    "\n",
    "helpers.bulk(es_client, doc_generator(data))"
   ]
  },
  {
   "cell_type": "code",
   "execution_count": 3,
   "id": "3b8937fe-446e-4fee-a764-83a9feec4a5c",
   "metadata": {},
   "outputs": [
    {
     "data": {
      "text/plain": [
       "6636"
      ]
     },
     "execution_count": 3,
     "metadata": {},
     "output_type": "execute_result"
    }
   ],
   "source": [
    "len(files)"
   ]
  },
  {
   "cell_type": "code",
   "execution_count": 4,
   "id": "7f0e108e-237f-449f-8420-83e7599976c7",
   "metadata": {},
   "outputs": [
    {
     "data": {
      "text/plain": [
       "{'acknowledged': True}"
      ]
     },
     "execution_count": 4,
     "metadata": {},
     "output_type": "execute_result"
    }
   ],
   "source": [
    "es_client.indices.delete(index='legaldocuments', ignore=[400, 404])"
   ]
  },
  {
   "cell_type": "code",
   "execution_count": null,
   "id": "de1fbe42-0788-470a-982b-dd8f8d574b5e",
   "metadata": {},
   "outputs": [],
   "source": []
  }
 ],
 "metadata": {
  "kernelspec": {
   "display_name": "Python 3 (ipykernel)",
   "language": "python",
   "name": "python3"
  },
  "language_info": {
   "codemirror_mode": {
    "name": "ipython",
    "version": 3
   },
   "file_extension": ".py",
   "mimetype": "text/x-python",
   "name": "python",
   "nbconvert_exporter": "python",
   "pygments_lexer": "ipython3",
   "version": "3.9.6"
  }
 },
 "nbformat": 4,
 "nbformat_minor": 5
}
